{
 "cells": [
  {
   "cell_type": "code",
   "execution_count": 2,
   "id": "0e0615d7",
   "metadata": {},
   "outputs": [],
   "source": [
    "# use product data to compute the following using np: \n",
    "# extract the  Year_of_Birth, Education_Level, Marital_Status, Disposable_Income, No_of_Kids_in_home and       \n",
    "# No_of_Teen_in_home column from the data\n",
    "#     compute the aggregation of sum of Amount_on_SweetProducts, Amount_on_GoldProds, mean and median\n",
    "#     compute the maximum  and minimum of Amount_on_SweetProducts,Amount_on_GoldProds  \n",
    "#     indicate the Education_Level and Marital_Status with minimum  and maximum Amount_on_SweetProducts,Amount_on_GoldProds\n",
    "#     indicate the Year_of_Birth with minimum and maximum Amount_on_SweetProducts,Amount_on_GoldProds"
   ]
  },
  {
   "cell_type": "code",
   "execution_count": 3,
   "id": "640f3232",
   "metadata": {},
   "outputs": [],
   "source": [
    "# Importing libraries\n",
    "import numpy as np\n",
    "import pandas as pd"
   ]
  },
  {
   "cell_type": "code",
   "execution_count": 40,
   "id": "89e5b0f4",
   "metadata": {},
   "outputs": [
    {
     "data": {
      "text/html": [
       "<div>\n",
       "<style scoped>\n",
       "    .dataframe tbody tr th:only-of-type {\n",
       "        vertical-align: middle;\n",
       "    }\n",
       "\n",
       "    .dataframe tbody tr th {\n",
       "        vertical-align: top;\n",
       "    }\n",
       "\n",
       "    .dataframe thead th {\n",
       "        text-align: right;\n",
       "    }\n",
       "</style>\n",
       "<table border=\"1\" class=\"dataframe\">\n",
       "  <thead>\n",
       "    <tr style=\"text-align: right;\">\n",
       "      <th></th>\n",
       "      <th>ID</th>\n",
       "      <th>Year_of_Birth</th>\n",
       "      <th>Education_Level</th>\n",
       "      <th>Marital_Status</th>\n",
       "      <th>Disposable_Income</th>\n",
       "      <th>No_of_Kids_in_home</th>\n",
       "      <th>No_of_Teen_in_home</th>\n",
       "      <th>Date_Customer</th>\n",
       "      <th>Recency</th>\n",
       "      <th>Discounted_Purchases</th>\n",
       "      <th>...</th>\n",
       "      <th>Amount_on_SweetProducts</th>\n",
       "      <th>Amount_on_GoldProds</th>\n",
       "      <th>WebVisitsMonth</th>\n",
       "      <th>Cmp3Accepted</th>\n",
       "      <th>Cmp4Accepted</th>\n",
       "      <th>Cmp5Accepted</th>\n",
       "      <th>Cmp1Accepted</th>\n",
       "      <th>Cmp2Accepted</th>\n",
       "      <th>Any_Complain</th>\n",
       "      <th>Response</th>\n",
       "    </tr>\n",
       "  </thead>\n",
       "  <tbody>\n",
       "    <tr>\n",
       "      <th>0</th>\n",
       "      <td>ID_4A9AR6FQ</td>\n",
       "      <td>1955</td>\n",
       "      <td>Graduation</td>\n",
       "      <td>Divorced</td>\n",
       "      <td>77504.4</td>\n",
       "      <td>1</td>\n",
       "      <td>1</td>\n",
       "      <td>22-06-2014</td>\n",
       "      <td>56</td>\n",
       "      <td>2</td>\n",
       "      <td>...</td>\n",
       "      <td>6</td>\n",
       "      <td>20</td>\n",
       "      <td>3</td>\n",
       "      <td>0</td>\n",
       "      <td>0</td>\n",
       "      <td>0</td>\n",
       "      <td>0</td>\n",
       "      <td>0</td>\n",
       "      <td>0</td>\n",
       "      <td>0</td>\n",
       "    </tr>\n",
       "    <tr>\n",
       "      <th>1</th>\n",
       "      <td>ID_X28T3VEK</td>\n",
       "      <td>1958</td>\n",
       "      <td>Graduation</td>\n",
       "      <td>Together</td>\n",
       "      <td>56784.0</td>\n",
       "      <td>0</td>\n",
       "      <td>1</td>\n",
       "      <td>01-08-2013</td>\n",
       "      <td>17</td>\n",
       "      <td>6</td>\n",
       "      <td>...</td>\n",
       "      <td>15</td>\n",
       "      <td>19</td>\n",
       "      <td>6</td>\n",
       "      <td>0</td>\n",
       "      <td>0</td>\n",
       "      <td>0</td>\n",
       "      <td>0</td>\n",
       "      <td>0</td>\n",
       "      <td>0</td>\n",
       "      <td>0</td>\n",
       "    </tr>\n",
       "    <tr>\n",
       "      <th>2</th>\n",
       "      <td>ID_AWXARH57</td>\n",
       "      <td>1962</td>\n",
       "      <td>Graduation</td>\n",
       "      <td>Single</td>\n",
       "      <td>103714.8</td>\n",
       "      <td>0</td>\n",
       "      <td>0</td>\n",
       "      <td>21-11-2013</td>\n",
       "      <td>17</td>\n",
       "      <td>0</td>\n",
       "      <td>...</td>\n",
       "      <td>18</td>\n",
       "      <td>37</td>\n",
       "      <td>2</td>\n",
       "      <td>0</td>\n",
       "      <td>0</td>\n",
       "      <td>0</td>\n",
       "      <td>1</td>\n",
       "      <td>0</td>\n",
       "      <td>0</td>\n",
       "      <td>1</td>\n",
       "    </tr>\n",
       "    <tr>\n",
       "      <th>3</th>\n",
       "      <td>ID_FQVZHE81</td>\n",
       "      <td>1979</td>\n",
       "      <td>2n Cycle</td>\n",
       "      <td>Single</td>\n",
       "      <td>46311.6</td>\n",
       "      <td>1</td>\n",
       "      <td>0</td>\n",
       "      <td>13-09-2013</td>\n",
       "      <td>49</td>\n",
       "      <td>3</td>\n",
       "      <td>...</td>\n",
       "      <td>24</td>\n",
       "      <td>24</td>\n",
       "      <td>8</td>\n",
       "      <td>0</td>\n",
       "      <td>0</td>\n",
       "      <td>0</td>\n",
       "      <td>0</td>\n",
       "      <td>0</td>\n",
       "      <td>0</td>\n",
       "      <td>0</td>\n",
       "    </tr>\n",
       "    <tr>\n",
       "      <th>4</th>\n",
       "      <td>ID_QVLWGPRN</td>\n",
       "      <td>1959</td>\n",
       "      <td>Graduation</td>\n",
       "      <td>Married</td>\n",
       "      <td>87486.0</td>\n",
       "      <td>0</td>\n",
       "      <td>0</td>\n",
       "      <td>21-01-2014</td>\n",
       "      <td>59</td>\n",
       "      <td>1</td>\n",
       "      <td>...</td>\n",
       "      <td>165</td>\n",
       "      <td>203</td>\n",
       "      <td>1</td>\n",
       "      <td>0</td>\n",
       "      <td>0</td>\n",
       "      <td>0</td>\n",
       "      <td>1</td>\n",
       "      <td>0</td>\n",
       "      <td>0</td>\n",
       "      <td>0</td>\n",
       "    </tr>\n",
       "    <tr>\n",
       "      <th>5</th>\n",
       "      <td>ID_3S3HRGH6</td>\n",
       "      <td>1960</td>\n",
       "      <td>Master</td>\n",
       "      <td>Married</td>\n",
       "      <td>41090.4</td>\n",
       "      <td>0</td>\n",
       "      <td>1</td>\n",
       "      <td>23-03-2014</td>\n",
       "      <td>32</td>\n",
       "      <td>1</td>\n",
       "      <td>...</td>\n",
       "      <td>0</td>\n",
       "      <td>1</td>\n",
       "      <td>5</td>\n",
       "      <td>0</td>\n",
       "      <td>0</td>\n",
       "      <td>0</td>\n",
       "      <td>0</td>\n",
       "      <td>0</td>\n",
       "      <td>0</td>\n",
       "      <td>0</td>\n",
       "    </tr>\n",
       "    <tr>\n",
       "      <th>6</th>\n",
       "      <td>ID_KJQ9B2LE</td>\n",
       "      <td>1953</td>\n",
       "      <td>Graduation</td>\n",
       "      <td>Single</td>\n",
       "      <td>86673.6</td>\n",
       "      <td>0</td>\n",
       "      <td>0</td>\n",
       "      <td>27-11-2012</td>\n",
       "      <td>94</td>\n",
       "      <td>1</td>\n",
       "      <td>...</td>\n",
       "      <td>14</td>\n",
       "      <td>56</td>\n",
       "      <td>3</td>\n",
       "      <td>0</td>\n",
       "      <td>0</td>\n",
       "      <td>0</td>\n",
       "      <td>0</td>\n",
       "      <td>0</td>\n",
       "      <td>0</td>\n",
       "      <td>0</td>\n",
       "    </tr>\n",
       "    <tr>\n",
       "      <th>7</th>\n",
       "      <td>ID_6O0NBZXD</td>\n",
       "      <td>1974</td>\n",
       "      <td>Graduation</td>\n",
       "      <td>Together</td>\n",
       "      <td>88711.2</td>\n",
       "      <td>0</td>\n",
       "      <td>0</td>\n",
       "      <td>02-03-2013</td>\n",
       "      <td>61</td>\n",
       "      <td>1</td>\n",
       "      <td>...</td>\n",
       "      <td>91</td>\n",
       "      <td>15</td>\n",
       "      <td>3</td>\n",
       "      <td>0</td>\n",
       "      <td>0</td>\n",
       "      <td>0</td>\n",
       "      <td>0</td>\n",
       "      <td>0</td>\n",
       "      <td>0</td>\n",
       "      <td>0</td>\n",
       "    </tr>\n",
       "    <tr>\n",
       "      <th>8</th>\n",
       "      <td>ID_M3QFT8WO</td>\n",
       "      <td>1966</td>\n",
       "      <td>Graduation</td>\n",
       "      <td>Together</td>\n",
       "      <td>35606.4</td>\n",
       "      <td>1</td>\n",
       "      <td>1</td>\n",
       "      <td>12-03-2013</td>\n",
       "      <td>13</td>\n",
       "      <td>1</td>\n",
       "      <td>...</td>\n",
       "      <td>4</td>\n",
       "      <td>8</td>\n",
       "      <td>6</td>\n",
       "      <td>0</td>\n",
       "      <td>0</td>\n",
       "      <td>0</td>\n",
       "      <td>0</td>\n",
       "      <td>0</td>\n",
       "      <td>0</td>\n",
       "      <td>0</td>\n",
       "    </tr>\n",
       "    <tr>\n",
       "      <th>9</th>\n",
       "      <td>ID_745JV5PY</td>\n",
       "      <td>1975</td>\n",
       "      <td>Graduation</td>\n",
       "      <td>Married</td>\n",
       "      <td>41305.2</td>\n",
       "      <td>1</td>\n",
       "      <td>0</td>\n",
       "      <td>01-07-2013</td>\n",
       "      <td>88</td>\n",
       "      <td>1</td>\n",
       "      <td>...</td>\n",
       "      <td>2</td>\n",
       "      <td>9</td>\n",
       "      <td>7</td>\n",
       "      <td>0</td>\n",
       "      <td>0</td>\n",
       "      <td>0</td>\n",
       "      <td>0</td>\n",
       "      <td>0</td>\n",
       "      <td>0</td>\n",
       "      <td>0</td>\n",
       "    </tr>\n",
       "    <tr>\n",
       "      <th>10</th>\n",
       "      <td>ID_PTC313AB</td>\n",
       "      <td>1974</td>\n",
       "      <td>Graduation</td>\n",
       "      <td>Married</td>\n",
       "      <td>31473.6</td>\n",
       "      <td>1</td>\n",
       "      <td>0</td>\n",
       "      <td>22-09-2013</td>\n",
       "      <td>57</td>\n",
       "      <td>1</td>\n",
       "      <td>...</td>\n",
       "      <td>1</td>\n",
       "      <td>9</td>\n",
       "      <td>8</td>\n",
       "      <td>0</td>\n",
       "      <td>0</td>\n",
       "      <td>0</td>\n",
       "      <td>0</td>\n",
       "      <td>0</td>\n",
       "      <td>0</td>\n",
       "      <td>0</td>\n",
       "    </tr>\n",
       "    <tr>\n",
       "      <th>11</th>\n",
       "      <td>ID_8QLN8M49</td>\n",
       "      <td>1989</td>\n",
       "      <td>Graduation</td>\n",
       "      <td>Single</td>\n",
       "      <td>82386.0</td>\n",
       "      <td>0</td>\n",
       "      <td>0</td>\n",
       "      <td>10-08-2012</td>\n",
       "      <td>102</td>\n",
       "      <td>1</td>\n",
       "      <td>...</td>\n",
       "      <td>118</td>\n",
       "      <td>38</td>\n",
       "      <td>3</td>\n",
       "      <td>0</td>\n",
       "      <td>0</td>\n",
       "      <td>0</td>\n",
       "      <td>0</td>\n",
       "      <td>0</td>\n",
       "      <td>0</td>\n",
       "      <td>0</td>\n",
       "    </tr>\n",
       "    <tr>\n",
       "      <th>12</th>\n",
       "      <td>ID_EV90FGQR</td>\n",
       "      <td>1955</td>\n",
       "      <td>Graduation</td>\n",
       "      <td>Married</td>\n",
       "      <td>56080.8</td>\n",
       "      <td>0</td>\n",
       "      <td>1</td>\n",
       "      <td>18-11-2012</td>\n",
       "      <td>47</td>\n",
       "      <td>2</td>\n",
       "      <td>...</td>\n",
       "      <td>23</td>\n",
       "      <td>29</td>\n",
       "      <td>7</td>\n",
       "      <td>0</td>\n",
       "      <td>0</td>\n",
       "      <td>0</td>\n",
       "      <td>0</td>\n",
       "      <td>0</td>\n",
       "      <td>0</td>\n",
       "      <td>0</td>\n",
       "    </tr>\n",
       "    <tr>\n",
       "      <th>13</th>\n",
       "      <td>ID_9DHJ0G4Y</td>\n",
       "      <td>1956</td>\n",
       "      <td>Graduation</td>\n",
       "      <td>Together</td>\n",
       "      <td>51103.2</td>\n",
       "      <td>1</td>\n",
       "      <td>1</td>\n",
       "      <td>29-10-2012</td>\n",
       "      <td>14</td>\n",
       "      <td>5</td>\n",
       "      <td>...</td>\n",
       "      <td>0</td>\n",
       "      <td>0</td>\n",
       "      <td>8</td>\n",
       "      <td>0</td>\n",
       "      <td>0</td>\n",
       "      <td>0</td>\n",
       "      <td>0</td>\n",
       "      <td>0</td>\n",
       "      <td>0</td>\n",
       "      <td>1</td>\n",
       "    </tr>\n",
       "    <tr>\n",
       "      <th>14</th>\n",
       "      <td>ID_LE15WJ3W</td>\n",
       "      <td>1976</td>\n",
       "      <td>2n Cycle</td>\n",
       "      <td>Single</td>\n",
       "      <td>49989.6</td>\n",
       "      <td>1</td>\n",
       "      <td>1</td>\n",
       "      <td>09-11-2012</td>\n",
       "      <td>37</td>\n",
       "      <td>2</td>\n",
       "      <td>...</td>\n",
       "      <td>4</td>\n",
       "      <td>29</td>\n",
       "      <td>4</td>\n",
       "      <td>0</td>\n",
       "      <td>0</td>\n",
       "      <td>0</td>\n",
       "      <td>0</td>\n",
       "      <td>0</td>\n",
       "      <td>0</td>\n",
       "      <td>0</td>\n",
       "    </tr>\n",
       "    <tr>\n",
       "      <th>15</th>\n",
       "      <td>ID_DPSZTEYW</td>\n",
       "      <td>1958</td>\n",
       "      <td>Graduation</td>\n",
       "      <td>Together</td>\n",
       "      <td>31309.2</td>\n",
       "      <td>1</td>\n",
       "      <td>1</td>\n",
       "      <td>25-02-2014</td>\n",
       "      <td>91</td>\n",
       "      <td>3</td>\n",
       "      <td>...</td>\n",
       "      <td>17</td>\n",
       "      <td>20</td>\n",
       "      <td>5</td>\n",
       "      <td>0</td>\n",
       "      <td>0</td>\n",
       "      <td>0</td>\n",
       "      <td>0</td>\n",
       "      <td>0</td>\n",
       "      <td>0</td>\n",
       "      <td>0</td>\n",
       "    </tr>\n",
       "    <tr>\n",
       "      <th>16</th>\n",
       "      <td>ID_GHZ15BJS</td>\n",
       "      <td>1970</td>\n",
       "      <td>Graduation</td>\n",
       "      <td>Single</td>\n",
       "      <td>65763.6</td>\n",
       "      <td>0</td>\n",
       "      <td>1</td>\n",
       "      <td>21-08-2012</td>\n",
       "      <td>72</td>\n",
       "      <td>2</td>\n",
       "      <td>...</td>\n",
       "      <td>27</td>\n",
       "      <td>142</td>\n",
       "      <td>4</td>\n",
       "      <td>0</td>\n",
       "      <td>0</td>\n",
       "      <td>0</td>\n",
       "      <td>0</td>\n",
       "      <td>0</td>\n",
       "      <td>0</td>\n",
       "      <td>0</td>\n",
       "    </tr>\n",
       "    <tr>\n",
       "      <th>17</th>\n",
       "      <td>ID_H8O80C53</td>\n",
       "      <td>1965</td>\n",
       "      <td>Master</td>\n",
       "      <td>Single</td>\n",
       "      <td>76766.4</td>\n",
       "      <td>0</td>\n",
       "      <td>1</td>\n",
       "      <td>02-12-2012</td>\n",
       "      <td>100</td>\n",
       "      <td>4</td>\n",
       "      <td>...</td>\n",
       "      <td>12</td>\n",
       "      <td>12</td>\n",
       "      <td>4</td>\n",
       "      <td>0</td>\n",
       "      <td>1</td>\n",
       "      <td>0</td>\n",
       "      <td>0</td>\n",
       "      <td>0</td>\n",
       "      <td>0</td>\n",
       "      <td>0</td>\n",
       "    </tr>\n",
       "    <tr>\n",
       "      <th>18</th>\n",
       "      <td>ID_TAZVY8ZL</td>\n",
       "      <td>1977</td>\n",
       "      <td>Graduation</td>\n",
       "      <td>Married</td>\n",
       "      <td>47227.2</td>\n",
       "      <td>1</td>\n",
       "      <td>1</td>\n",
       "      <td>19-03-2014</td>\n",
       "      <td>28</td>\n",
       "      <td>1</td>\n",
       "      <td>...</td>\n",
       "      <td>0</td>\n",
       "      <td>6</td>\n",
       "      <td>6</td>\n",
       "      <td>1</td>\n",
       "      <td>0</td>\n",
       "      <td>0</td>\n",
       "      <td>0</td>\n",
       "      <td>0</td>\n",
       "      <td>0</td>\n",
       "      <td>0</td>\n",
       "    </tr>\n",
       "    <tr>\n",
       "      <th>19</th>\n",
       "      <td>ID_1WLYQEA5</td>\n",
       "      <td>1959</td>\n",
       "      <td>2n Cycle</td>\n",
       "      <td>Single</td>\n",
       "      <td>102582.0</td>\n",
       "      <td>0</td>\n",
       "      <td>0</td>\n",
       "      <td>21-06-2014</td>\n",
       "      <td>80</td>\n",
       "      <td>1</td>\n",
       "      <td>...</td>\n",
       "      <td>18</td>\n",
       "      <td>54</td>\n",
       "      <td>2</td>\n",
       "      <td>0</td>\n",
       "      <td>0</td>\n",
       "      <td>0</td>\n",
       "      <td>0</td>\n",
       "      <td>0</td>\n",
       "      <td>0</td>\n",
       "      <td>0</td>\n",
       "    </tr>\n",
       "  </tbody>\n",
       "</table>\n",
       "<p>20 rows × 27 columns</p>\n",
       "</div>"
      ],
      "text/plain": [
       "             ID  Year_of_Birth Education_Level Marital_Status  \\\n",
       "0   ID_4A9AR6FQ           1955      Graduation       Divorced   \n",
       "1   ID_X28T3VEK           1958      Graduation       Together   \n",
       "2   ID_AWXARH57           1962      Graduation         Single   \n",
       "3   ID_FQVZHE81           1979        2n Cycle         Single   \n",
       "4   ID_QVLWGPRN           1959      Graduation        Married   \n",
       "5   ID_3S3HRGH6           1960          Master        Married   \n",
       "6   ID_KJQ9B2LE           1953      Graduation         Single   \n",
       "7   ID_6O0NBZXD           1974      Graduation       Together   \n",
       "8   ID_M3QFT8WO           1966      Graduation       Together   \n",
       "9   ID_745JV5PY           1975      Graduation        Married   \n",
       "10  ID_PTC313AB           1974      Graduation        Married   \n",
       "11  ID_8QLN8M49           1989      Graduation         Single   \n",
       "12  ID_EV90FGQR           1955      Graduation        Married   \n",
       "13  ID_9DHJ0G4Y           1956      Graduation       Together   \n",
       "14  ID_LE15WJ3W           1976        2n Cycle         Single   \n",
       "15  ID_DPSZTEYW           1958      Graduation       Together   \n",
       "16  ID_GHZ15BJS           1970      Graduation         Single   \n",
       "17  ID_H8O80C53           1965          Master         Single   \n",
       "18  ID_TAZVY8ZL           1977      Graduation        Married   \n",
       "19  ID_1WLYQEA5           1959        2n Cycle         Single   \n",
       "\n",
       "    Disposable_Income  No_of_Kids_in_home  No_of_Teen_in_home Date_Customer  \\\n",
       "0             77504.4                   1                   1    22-06-2014   \n",
       "1             56784.0                   0                   1    01-08-2013   \n",
       "2            103714.8                   0                   0    21-11-2013   \n",
       "3             46311.6                   1                   0    13-09-2013   \n",
       "4             87486.0                   0                   0    21-01-2014   \n",
       "5             41090.4                   0                   1    23-03-2014   \n",
       "6             86673.6                   0                   0    27-11-2012   \n",
       "7             88711.2                   0                   0    02-03-2013   \n",
       "8             35606.4                   1                   1    12-03-2013   \n",
       "9             41305.2                   1                   0    01-07-2013   \n",
       "10            31473.6                   1                   0    22-09-2013   \n",
       "11            82386.0                   0                   0    10-08-2012   \n",
       "12            56080.8                   0                   1    18-11-2012   \n",
       "13            51103.2                   1                   1    29-10-2012   \n",
       "14            49989.6                   1                   1    09-11-2012   \n",
       "15            31309.2                   1                   1    25-02-2014   \n",
       "16            65763.6                   0                   1    21-08-2012   \n",
       "17            76766.4                   0                   1    02-12-2012   \n",
       "18            47227.2                   1                   1    19-03-2014   \n",
       "19           102582.0                   0                   0    21-06-2014   \n",
       "\n",
       "    Recency  Discounted_Purchases  ...  Amount_on_SweetProducts  \\\n",
       "0        56                     2  ...                        6   \n",
       "1        17                     6  ...                       15   \n",
       "2        17                     0  ...                       18   \n",
       "3        49                     3  ...                       24   \n",
       "4        59                     1  ...                      165   \n",
       "5        32                     1  ...                        0   \n",
       "6        94                     1  ...                       14   \n",
       "7        61                     1  ...                       91   \n",
       "8        13                     1  ...                        4   \n",
       "9        88                     1  ...                        2   \n",
       "10       57                     1  ...                        1   \n",
       "11      102                     1  ...                      118   \n",
       "12       47                     2  ...                       23   \n",
       "13       14                     5  ...                        0   \n",
       "14       37                     2  ...                        4   \n",
       "15       91                     3  ...                       17   \n",
       "16       72                     2  ...                       27   \n",
       "17      100                     4  ...                       12   \n",
       "18       28                     1  ...                        0   \n",
       "19       80                     1  ...                       18   \n",
       "\n",
       "    Amount_on_GoldProds  WebVisitsMonth  Cmp3Accepted  Cmp4Accepted  \\\n",
       "0                    20               3             0             0   \n",
       "1                    19               6             0             0   \n",
       "2                    37               2             0             0   \n",
       "3                    24               8             0             0   \n",
       "4                   203               1             0             0   \n",
       "5                     1               5             0             0   \n",
       "6                    56               3             0             0   \n",
       "7                    15               3             0             0   \n",
       "8                     8               6             0             0   \n",
       "9                     9               7             0             0   \n",
       "10                    9               8             0             0   \n",
       "11                   38               3             0             0   \n",
       "12                   29               7             0             0   \n",
       "13                    0               8             0             0   \n",
       "14                   29               4             0             0   \n",
       "15                   20               5             0             0   \n",
       "16                  142               4             0             0   \n",
       "17                   12               4             0             1   \n",
       "18                    6               6             1             0   \n",
       "19                   54               2             0             0   \n",
       "\n",
       "    Cmp5Accepted  Cmp1Accepted  Cmp2Accepted  Any_Complain  Response  \n",
       "0              0             0             0             0         0  \n",
       "1              0             0             0             0         0  \n",
       "2              0             1             0             0         1  \n",
       "3              0             0             0             0         0  \n",
       "4              0             1             0             0         0  \n",
       "5              0             0             0             0         0  \n",
       "6              0             0             0             0         0  \n",
       "7              0             0             0             0         0  \n",
       "8              0             0             0             0         0  \n",
       "9              0             0             0             0         0  \n",
       "10             0             0             0             0         0  \n",
       "11             0             0             0             0         0  \n",
       "12             0             0             0             0         0  \n",
       "13             0             0             0             0         1  \n",
       "14             0             0             0             0         0  \n",
       "15             0             0             0             0         0  \n",
       "16             0             0             0             0         0  \n",
       "17             0             0             0             0         0  \n",
       "18             0             0             0             0         0  \n",
       "19             0             0             0             0         0  \n",
       "\n",
       "[20 rows x 27 columns]"
      ]
     },
     "execution_count": 40,
     "metadata": {},
     "output_type": "execute_result"
    }
   ],
   "source": [
    "# Importing dataset\n",
    "product = pd.read_csv('C:\\\\Users\\\\MY LAPTOP\\\\Desktop\\\\SQI\\Data Science\\\\Numpy\\Datasets\\\\product.csv')\n",
    "product.head(20)"
   ]
  },
  {
   "cell_type": "markdown",
   "id": "eaf3f772",
   "metadata": {},
   "source": [
    "# Extract the  Year_of_Birth, Education_Level, Marital_Status, Disposable_Income, No_of_Kids_in_home and No_of_Teen_in_home column from the data"
   ]
  },
  {
   "cell_type": "code",
   "execution_count": 6,
   "id": "69d0ef4b",
   "metadata": {},
   "outputs": [
    {
     "data": {
      "text/plain": [
       "array([1955, 1958, 1962, ..., 1952, 1964, 1970], dtype=int64)"
      ]
     },
     "execution_count": 6,
     "metadata": {},
     "output_type": "execute_result"
    }
   ],
   "source": [
    "# Extract Year_of_Birth\n",
    "birth_year = product['Year_of_Birth'].values\n",
    "birth_year"
   ]
  },
  {
   "cell_type": "code",
   "execution_count": 8,
   "id": "8235fcf1",
   "metadata": {},
   "outputs": [
    {
     "data": {
      "text/plain": [
       "array(['Graduation', 'Graduation', 'Graduation', ..., 'Master', 'PhD',\n",
       "       'Graduation'], dtype=object)"
      ]
     },
     "execution_count": 8,
     "metadata": {},
     "output_type": "execute_result"
    }
   ],
   "source": [
    "# Extract Education_Level\n",
    "edu = product['Education_Level'].values\n",
    "edu"
   ]
  },
  {
   "cell_type": "code",
   "execution_count": 9,
   "id": "794f15d5",
   "metadata": {},
   "outputs": [
    {
     "data": {
      "text/plain": [
       "array(['Divorced', 'Together', 'Single', ..., 'Married', 'Single',\n",
       "       'Together'], dtype=object)"
      ]
     },
     "execution_count": 9,
     "metadata": {},
     "output_type": "execute_result"
    }
   ],
   "source": [
    "# Extract Marital_Status\n",
    "marital = product['Marital_Status'].values\n",
    "marital"
   ]
  },
  {
   "cell_type": "code",
   "execution_count": 13,
   "id": "338c3d3c",
   "metadata": {},
   "outputs": [
    {
     "data": {
      "text/plain": [
       "array([ 77504.4,  56784. , 103714.8, ...,  80857.2,  58701.6,  27873.6])"
      ]
     },
     "execution_count": 13,
     "metadata": {},
     "output_type": "execute_result"
    }
   ],
   "source": [
    "#  Extract  Disposable_Income\n",
    "dispose_income = product['Disposable_Income'].values\n",
    "dispose_income"
   ]
  },
  {
   "cell_type": "code",
   "execution_count": 15,
   "id": "61d06843",
   "metadata": {},
   "outputs": [
    {
     "data": {
      "text/plain": [
       "array([1, 0, 0, ..., 0, 1, 1], dtype=int64)"
      ]
     },
     "execution_count": 15,
     "metadata": {},
     "output_type": "execute_result"
    }
   ],
   "source": [
    "#  Extract No_of_Kids_in_home\n",
    "kids = product['No_of_Kids_in_home'].values\n",
    "kids"
   ]
  },
  {
   "cell_type": "code",
   "execution_count": 16,
   "id": "62527fa0",
   "metadata": {},
   "outputs": [
    {
     "data": {
      "text/plain": [
       "array([1, 1, 0, ..., 1, 1, 0], dtype=int64)"
      ]
     },
     "execution_count": 16,
     "metadata": {},
     "output_type": "execute_result"
    }
   ],
   "source": [
    "#  Extract No_of_Teen_in_home\n",
    "teens = product['No_of_Teen_in_home'].values\n",
    "teens"
   ]
  },
  {
   "cell_type": "markdown",
   "id": "75995252",
   "metadata": {},
   "source": [
    "# Compute the aggregation of sum of Amount_on_SweetProducts,Amount_on_GoldProds, mean and median"
   ]
  },
  {
   "cell_type": "code",
   "execution_count": 17,
   "id": "788ba4a5",
   "metadata": {},
   "outputs": [
    {
     "name": "stdout",
     "output_type": "stream",
     "text": [
      "Sweet Products: [ 6 15 18 ...  0  0  1] \n",
      "\n",
      "Gold products: [20 19 37 ... 70  1  0]\n"
     ]
    }
   ],
   "source": [
    "# Let's extract the columns\n",
    "sweetprod = product['Amount_on_SweetProducts'].values\n",
    "goldprod = product['Amount_on_GoldProds'].values\n",
    "print(\"Sweet Products:\", sweetprod, \"\\n\")\n",
    "print(\"Gold products:\", goldprod)"
   ]
  },
  {
   "cell_type": "code",
   "execution_count": 18,
   "id": "822120bf",
   "metadata": {},
   "outputs": [
    {
     "data": {
      "text/plain": [
       "42023"
      ]
     },
     "execution_count": 18,
     "metadata": {},
     "output_type": "execute_result"
    }
   ],
   "source": [
    "# sum of Amount_on_SweetProducts\n",
    "np.sum(sweetprod)"
   ]
  },
  {
   "cell_type": "code",
   "execution_count": 19,
   "id": "20cc78c8",
   "metadata": {},
   "outputs": [
    {
     "data": {
      "text/plain": [
       "68583"
      ]
     },
     "execution_count": 19,
     "metadata": {},
     "output_type": "execute_result"
    }
   ],
   "source": [
    "# Sum of Amount_on_GoldProds\n",
    "np.sum(goldprod)"
   ]
  },
  {
   "cell_type": "code",
   "execution_count": 20,
   "id": "0132a8d9",
   "metadata": {},
   "outputs": [
    {
     "data": {
      "text/plain": [
       "26.800382653061224"
      ]
     },
     "execution_count": 20,
     "metadata": {},
     "output_type": "execute_result"
    }
   ],
   "source": [
    "# mean of Amount_on_SweetProducts\n",
    "np.mean(sweetprod)"
   ]
  },
  {
   "cell_type": "code",
   "execution_count": 21,
   "id": "ffc4484d",
   "metadata": {},
   "outputs": [
    {
     "data": {
      "text/plain": [
       "43.73915816326531"
      ]
     },
     "execution_count": 21,
     "metadata": {},
     "output_type": "execute_result"
    }
   ],
   "source": [
    "# mean of Amount_on_GoldProds\n",
    "np.mean(goldprod)"
   ]
  },
  {
   "cell_type": "code",
   "execution_count": 22,
   "id": "e364e9f2",
   "metadata": {},
   "outputs": [
    {
     "data": {
      "text/plain": [
       "8.0"
      ]
     },
     "execution_count": 22,
     "metadata": {},
     "output_type": "execute_result"
    }
   ],
   "source": [
    "# median of Amount_on_SweetProducts\n",
    "np.median(sweetprod)"
   ]
  },
  {
   "cell_type": "code",
   "execution_count": 23,
   "id": "11a0005a",
   "metadata": {},
   "outputs": [
    {
     "data": {
      "text/plain": [
       "25.0"
      ]
     },
     "execution_count": 23,
     "metadata": {},
     "output_type": "execute_result"
    }
   ],
   "source": [
    "# median of Amount_on_GoldProds\n",
    "np.median(goldprod)"
   ]
  },
  {
   "cell_type": "markdown",
   "id": "ed64a0f6",
   "metadata": {},
   "source": [
    "# Compute the maximum  and minimum of Amount_on_SweetProducts, Amount_on_GoldProds"
   ]
  },
  {
   "cell_type": "code",
   "execution_count": 24,
   "id": "aaffb7ce",
   "metadata": {},
   "outputs": [
    {
     "name": "stdout",
     "output_type": "stream",
     "text": [
      "Maximum Amount_on_sweetProducts: 263 \n",
      "\n",
      "Maximum Amount_on_GoldProds: 362\n"
     ]
    }
   ],
   "source": [
    "# Maximum of Amount_on_SweetProducts, Amount_on_GoldProds\n",
    "print(\"Maximum Amount_on_sweetProducts:\", np.max(sweetprod), \"\\n\")\n",
    "print(\"Maximum Amount_on_GoldProds:\", np.max(goldprod))"
   ]
  },
  {
   "cell_type": "code",
   "execution_count": 25,
   "id": "675fbabb",
   "metadata": {},
   "outputs": [
    {
     "name": "stdout",
     "output_type": "stream",
     "text": [
      "Minimum Amount_on_sweetProducts: 0 \n",
      "\n",
      "Minimum Amount_on_GoldProds: 0\n"
     ]
    }
   ],
   "source": [
    "# Minimum of Amount_on_SweetProducts, Amount_on_GoldProds\n",
    "print(\"Minimum Amount_on_sweetProducts:\", np.min(sweetprod), \"\\n\")\n",
    "print(\"Minimum Amount_on_GoldProds:\", np.min(goldprod))"
   ]
  },
  {
   "cell_type": "markdown",
   "id": "8fe959c7",
   "metadata": {},
   "source": [
    "# Indicate the Education_Level and Marital_Status with minimum  and maximum Amount_on_SweetProducts and Amount_on_GoldProds"
   ]
  },
  {
   "cell_type": "code",
   "execution_count": 32,
   "id": "3ea01a8a",
   "metadata": {},
   "outputs": [
    {
     "data": {
      "text/plain": [
       "'Master'"
      ]
     },
     "execution_count": 32,
     "metadata": {},
     "output_type": "execute_result"
    }
   ],
   "source": [
    "# Educational_Level with minimum Amount_on_SweetProducts\n",
    "edu[np.argmin(sweetprod)]"
   ]
  },
  {
   "cell_type": "code",
   "execution_count": 33,
   "id": "bc70cb69",
   "metadata": {},
   "outputs": [
    {
     "data": {
      "text/plain": [
       "5"
      ]
     },
     "execution_count": 33,
     "metadata": {},
     "output_type": "execute_result"
    }
   ],
   "source": [
    "# Its index\n",
    "np.argmin(sweetprod)"
   ]
  },
  {
   "cell_type": "code",
   "execution_count": 34,
   "id": "287b0380",
   "metadata": {},
   "outputs": [
    {
     "data": {
      "text/plain": [
       "'Graduation'"
      ]
     },
     "execution_count": 34,
     "metadata": {},
     "output_type": "execute_result"
    }
   ],
   "source": [
    "# Educational_Level with maximum Amount_on_SweetProducts\n",
    "edu[np.argmax(sweetprod)]"
   ]
  },
  {
   "cell_type": "code",
   "execution_count": 35,
   "id": "1e23d579",
   "metadata": {},
   "outputs": [
    {
     "data": {
      "text/plain": [
       "642"
      ]
     },
     "execution_count": 35,
     "metadata": {},
     "output_type": "execute_result"
    }
   ],
   "source": [
    "# Its index\n",
    "np.argmax(sweetprod)"
   ]
  },
  {
   "cell_type": "code",
   "execution_count": 36,
   "id": "1ef22bc2",
   "metadata": {},
   "outputs": [
    {
     "data": {
      "text/html": [
       "<div>\n",
       "<style scoped>\n",
       "    .dataframe tbody tr th:only-of-type {\n",
       "        vertical-align: middle;\n",
       "    }\n",
       "\n",
       "    .dataframe tbody tr th {\n",
       "        vertical-align: top;\n",
       "    }\n",
       "\n",
       "    .dataframe thead th {\n",
       "        text-align: right;\n",
       "    }\n",
       "</style>\n",
       "<table border=\"1\" class=\"dataframe\">\n",
       "  <thead>\n",
       "    <tr style=\"text-align: right;\">\n",
       "      <th></th>\n",
       "      <th>ID</th>\n",
       "      <th>Year_of_Birth</th>\n",
       "      <th>Education_Level</th>\n",
       "      <th>Marital_Status</th>\n",
       "      <th>Disposable_Income</th>\n",
       "      <th>No_of_Kids_in_home</th>\n",
       "      <th>No_of_Teen_in_home</th>\n",
       "      <th>Date_Customer</th>\n",
       "      <th>Recency</th>\n",
       "      <th>Discounted_Purchases</th>\n",
       "      <th>...</th>\n",
       "      <th>Amount_on_SweetProducts</th>\n",
       "      <th>Amount_on_GoldProds</th>\n",
       "      <th>WebVisitsMonth</th>\n",
       "      <th>Cmp3Accepted</th>\n",
       "      <th>Cmp4Accepted</th>\n",
       "      <th>Cmp5Accepted</th>\n",
       "      <th>Cmp1Accepted</th>\n",
       "      <th>Cmp2Accepted</th>\n",
       "      <th>Any_Complain</th>\n",
       "      <th>Response</th>\n",
       "    </tr>\n",
       "  </thead>\n",
       "  <tbody>\n",
       "    <tr>\n",
       "      <th>642</th>\n",
       "      <td>ID_O6ZRF42T</td>\n",
       "      <td>1987</td>\n",
       "      <td>Graduation</td>\n",
       "      <td>Single</td>\n",
       "      <td>NaN</td>\n",
       "      <td>1</td>\n",
       "      <td>0</td>\n",
       "      <td>20-02-2013</td>\n",
       "      <td>26</td>\n",
       "      <td>0</td>\n",
       "      <td>...</td>\n",
       "      <td>263</td>\n",
       "      <td>362</td>\n",
       "      <td>1</td>\n",
       "      <td>0</td>\n",
       "      <td>0</td>\n",
       "      <td>0</td>\n",
       "      <td>0</td>\n",
       "      <td>0</td>\n",
       "      <td>0</td>\n",
       "      <td>0</td>\n",
       "    </tr>\n",
       "    <tr>\n",
       "      <th>705</th>\n",
       "      <td>ID_AF2NVVNU</td>\n",
       "      <td>1946</td>\n",
       "      <td>PhD</td>\n",
       "      <td>Single</td>\n",
       "      <td>136480.8</td>\n",
       "      <td>0</td>\n",
       "      <td>0</td>\n",
       "      <td>28-05-2014</td>\n",
       "      <td>16</td>\n",
       "      <td>0</td>\n",
       "      <td>...</td>\n",
       "      <td>262</td>\n",
       "      <td>3</td>\n",
       "      <td>1</td>\n",
       "      <td>0</td>\n",
       "      <td>0</td>\n",
       "      <td>0</td>\n",
       "      <td>0</td>\n",
       "      <td>0</td>\n",
       "      <td>0</td>\n",
       "      <td>0</td>\n",
       "    </tr>\n",
       "    <tr>\n",
       "      <th>933</th>\n",
       "      <td>ID_5D3W0JB7</td>\n",
       "      <td>1973</td>\n",
       "      <td>Graduation</td>\n",
       "      <td>Married</td>\n",
       "      <td>89659.2</td>\n",
       "      <td>0</td>\n",
       "      <td>1</td>\n",
       "      <td>12-09-2013</td>\n",
       "      <td>99</td>\n",
       "      <td>2</td>\n",
       "      <td>...</td>\n",
       "      <td>195</td>\n",
       "      <td>71</td>\n",
       "      <td>4</td>\n",
       "      <td>0</td>\n",
       "      <td>0</td>\n",
       "      <td>0</td>\n",
       "      <td>0</td>\n",
       "      <td>0</td>\n",
       "      <td>0</td>\n",
       "      <td>0</td>\n",
       "    </tr>\n",
       "    <tr>\n",
       "      <th>1467</th>\n",
       "      <td>ID_8YUSY1Y9</td>\n",
       "      <td>1977</td>\n",
       "      <td>2n Cycle</td>\n",
       "      <td>Together</td>\n",
       "      <td>90580.8</td>\n",
       "      <td>0</td>\n",
       "      <td>1</td>\n",
       "      <td>02-08-2012</td>\n",
       "      <td>57</td>\n",
       "      <td>2</td>\n",
       "      <td>...</td>\n",
       "      <td>194</td>\n",
       "      <td>34</td>\n",
       "      <td>4</td>\n",
       "      <td>0</td>\n",
       "      <td>0</td>\n",
       "      <td>0</td>\n",
       "      <td>0</td>\n",
       "      <td>0</td>\n",
       "      <td>0</td>\n",
       "      <td>0</td>\n",
       "    </tr>\n",
       "    <tr>\n",
       "      <th>197</th>\n",
       "      <td>ID_WC6BKYXZ</td>\n",
       "      <td>1978</td>\n",
       "      <td>Graduation</td>\n",
       "      <td>Together</td>\n",
       "      <td>116251.2</td>\n",
       "      <td>0</td>\n",
       "      <td>0</td>\n",
       "      <td>06-08-2013</td>\n",
       "      <td>86</td>\n",
       "      <td>1</td>\n",
       "      <td>...</td>\n",
       "      <td>194</td>\n",
       "      <td>21</td>\n",
       "      <td>2</td>\n",
       "      <td>0</td>\n",
       "      <td>1</td>\n",
       "      <td>1</td>\n",
       "      <td>1</td>\n",
       "      <td>0</td>\n",
       "      <td>0</td>\n",
       "      <td>1</td>\n",
       "    </tr>\n",
       "    <tr>\n",
       "      <th>...</th>\n",
       "      <td>...</td>\n",
       "      <td>...</td>\n",
       "      <td>...</td>\n",
       "      <td>...</td>\n",
       "      <td>...</td>\n",
       "      <td>...</td>\n",
       "      <td>...</td>\n",
       "      <td>...</td>\n",
       "      <td>...</td>\n",
       "      <td>...</td>\n",
       "      <td>...</td>\n",
       "      <td>...</td>\n",
       "      <td>...</td>\n",
       "      <td>...</td>\n",
       "      <td>...</td>\n",
       "      <td>...</td>\n",
       "      <td>...</td>\n",
       "      <td>...</td>\n",
       "      <td>...</td>\n",
       "      <td>...</td>\n",
       "      <td>...</td>\n",
       "    </tr>\n",
       "    <tr>\n",
       "      <th>266</th>\n",
       "      <td>ID_BG6UIL1G</td>\n",
       "      <td>1968</td>\n",
       "      <td>PhD</td>\n",
       "      <td>Single</td>\n",
       "      <td>63082.8</td>\n",
       "      <td>0</td>\n",
       "      <td>1</td>\n",
       "      <td>05-04-2014</td>\n",
       "      <td>61</td>\n",
       "      <td>1</td>\n",
       "      <td>...</td>\n",
       "      <td>0</td>\n",
       "      <td>7</td>\n",
       "      <td>3</td>\n",
       "      <td>0</td>\n",
       "      <td>0</td>\n",
       "      <td>0</td>\n",
       "      <td>0</td>\n",
       "      <td>0</td>\n",
       "      <td>0</td>\n",
       "      <td>0</td>\n",
       "    </tr>\n",
       "    <tr>\n",
       "      <th>269</th>\n",
       "      <td>ID_9L1QA5W3</td>\n",
       "      <td>1974</td>\n",
       "      <td>PhD</td>\n",
       "      <td>Together</td>\n",
       "      <td>24512.4</td>\n",
       "      <td>1</td>\n",
       "      <td>0</td>\n",
       "      <td>24-03-2014</td>\n",
       "      <td>70</td>\n",
       "      <td>1</td>\n",
       "      <td>...</td>\n",
       "      <td>0</td>\n",
       "      <td>1</td>\n",
       "      <td>8</td>\n",
       "      <td>0</td>\n",
       "      <td>0</td>\n",
       "      <td>0</td>\n",
       "      <td>0</td>\n",
       "      <td>0</td>\n",
       "      <td>0</td>\n",
       "      <td>0</td>\n",
       "    </tr>\n",
       "    <tr>\n",
       "      <th>270</th>\n",
       "      <td>ID_QP51VU23</td>\n",
       "      <td>1965</td>\n",
       "      <td>Master</td>\n",
       "      <td>Single</td>\n",
       "      <td>69969.6</td>\n",
       "      <td>0</td>\n",
       "      <td>1</td>\n",
       "      <td>12-01-2013</td>\n",
       "      <td>84</td>\n",
       "      <td>4</td>\n",
       "      <td>...</td>\n",
       "      <td>0</td>\n",
       "      <td>130</td>\n",
       "      <td>8</td>\n",
       "      <td>0</td>\n",
       "      <td>0</td>\n",
       "      <td>0</td>\n",
       "      <td>0</td>\n",
       "      <td>0</td>\n",
       "      <td>0</td>\n",
       "      <td>0</td>\n",
       "    </tr>\n",
       "    <tr>\n",
       "      <th>578</th>\n",
       "      <td>ID_BWO5QGK7</td>\n",
       "      <td>1971</td>\n",
       "      <td>Graduation</td>\n",
       "      <td>Widow</td>\n",
       "      <td>38256.0</td>\n",
       "      <td>1</td>\n",
       "      <td>0</td>\n",
       "      <td>31-10-2012</td>\n",
       "      <td>20</td>\n",
       "      <td>1</td>\n",
       "      <td>...</td>\n",
       "      <td>0</td>\n",
       "      <td>3</td>\n",
       "      <td>8</td>\n",
       "      <td>0</td>\n",
       "      <td>0</td>\n",
       "      <td>0</td>\n",
       "      <td>0</td>\n",
       "      <td>0</td>\n",
       "      <td>0</td>\n",
       "      <td>0</td>\n",
       "    </tr>\n",
       "    <tr>\n",
       "      <th>866</th>\n",
       "      <td>ID_00RN2YC9</td>\n",
       "      <td>1966</td>\n",
       "      <td>Graduation</td>\n",
       "      <td>Together</td>\n",
       "      <td>67255.2</td>\n",
       "      <td>0</td>\n",
       "      <td>0</td>\n",
       "      <td>02-01-2013</td>\n",
       "      <td>16</td>\n",
       "      <td>2</td>\n",
       "      <td>...</td>\n",
       "      <td>0</td>\n",
       "      <td>51</td>\n",
       "      <td>8</td>\n",
       "      <td>1</td>\n",
       "      <td>0</td>\n",
       "      <td>0</td>\n",
       "      <td>0</td>\n",
       "      <td>0</td>\n",
       "      <td>0</td>\n",
       "      <td>1</td>\n",
       "    </tr>\n",
       "  </tbody>\n",
       "</table>\n",
       "<p>1568 rows × 27 columns</p>\n",
       "</div>"
      ],
      "text/plain": [
       "               ID  Year_of_Birth Education_Level Marital_Status  \\\n",
       "642   ID_O6ZRF42T           1987      Graduation         Single   \n",
       "705   ID_AF2NVVNU           1946             PhD         Single   \n",
       "933   ID_5D3W0JB7           1973      Graduation        Married   \n",
       "1467  ID_8YUSY1Y9           1977        2n Cycle       Together   \n",
       "197   ID_WC6BKYXZ           1978      Graduation       Together   \n",
       "...           ...            ...             ...            ...   \n",
       "266   ID_BG6UIL1G           1968             PhD         Single   \n",
       "269   ID_9L1QA5W3           1974             PhD       Together   \n",
       "270   ID_QP51VU23           1965          Master         Single   \n",
       "578   ID_BWO5QGK7           1971      Graduation          Widow   \n",
       "866   ID_00RN2YC9           1966      Graduation       Together   \n",
       "\n",
       "      Disposable_Income  No_of_Kids_in_home  No_of_Teen_in_home Date_Customer  \\\n",
       "642                 NaN                   1                   0    20-02-2013   \n",
       "705            136480.8                   0                   0    28-05-2014   \n",
       "933             89659.2                   0                   1    12-09-2013   \n",
       "1467            90580.8                   0                   1    02-08-2012   \n",
       "197            116251.2                   0                   0    06-08-2013   \n",
       "...                 ...                 ...                 ...           ...   \n",
       "266             63082.8                   0                   1    05-04-2014   \n",
       "269             24512.4                   1                   0    24-03-2014   \n",
       "270             69969.6                   0                   1    12-01-2013   \n",
       "578             38256.0                   1                   0    31-10-2012   \n",
       "866             67255.2                   0                   0    02-01-2013   \n",
       "\n",
       "      Recency  Discounted_Purchases  ...  Amount_on_SweetProducts  \\\n",
       "642        26                     0  ...                      263   \n",
       "705        16                     0  ...                      262   \n",
       "933        99                     2  ...                      195   \n",
       "1467       57                     2  ...                      194   \n",
       "197        86                     1  ...                      194   \n",
       "...       ...                   ...  ...                      ...   \n",
       "266        61                     1  ...                        0   \n",
       "269        70                     1  ...                        0   \n",
       "270        84                     4  ...                        0   \n",
       "578        20                     1  ...                        0   \n",
       "866        16                     2  ...                        0   \n",
       "\n",
       "      Amount_on_GoldProds  WebVisitsMonth  Cmp3Accepted  Cmp4Accepted  \\\n",
       "642                   362               1             0             0   \n",
       "705                     3               1             0             0   \n",
       "933                    71               4             0             0   \n",
       "1467                   34               4             0             0   \n",
       "197                    21               2             0             1   \n",
       "...                   ...             ...           ...           ...   \n",
       "266                     7               3             0             0   \n",
       "269                     1               8             0             0   \n",
       "270                   130               8             0             0   \n",
       "578                     3               8             0             0   \n",
       "866                    51               8             1             0   \n",
       "\n",
       "      Cmp5Accepted  Cmp1Accepted  Cmp2Accepted  Any_Complain  Response  \n",
       "642              0             0             0             0         0  \n",
       "705              0             0             0             0         0  \n",
       "933              0             0             0             0         0  \n",
       "1467             0             0             0             0         0  \n",
       "197              1             1             0             0         1  \n",
       "...            ...           ...           ...           ...       ...  \n",
       "266              0             0             0             0         0  \n",
       "269              0             0             0             0         0  \n",
       "270              0             0             0             0         0  \n",
       "578              0             0             0             0         0  \n",
       "866              0             0             0             0         1  \n",
       "\n",
       "[1568 rows x 27 columns]"
      ]
     },
     "execution_count": 36,
     "metadata": {},
     "output_type": "execute_result"
    }
   ],
   "source": [
    "# To confirm from DataFrame by sorting\n",
    "product.sort_values(by='Amount_on_SweetProducts', ascending=False)"
   ]
  },
  {
   "cell_type": "code",
   "execution_count": 37,
   "id": "52ad3922",
   "metadata": {},
   "outputs": [
    {
     "data": {
      "text/plain": [
       "'Graduation'"
      ]
     },
     "execution_count": 37,
     "metadata": {},
     "output_type": "execute_result"
    }
   ],
   "source": [
    "# Educational_Level with minimum Amount_on_GoldProds\n",
    "edu[np.argmin(goldprod)]"
   ]
  },
  {
   "cell_type": "code",
   "execution_count": 39,
   "id": "5b0513d3",
   "metadata": {},
   "outputs": [
    {
     "data": {
      "text/plain": [
       "13"
      ]
     },
     "execution_count": 39,
     "metadata": {},
     "output_type": "execute_result"
    }
   ],
   "source": [
    "# Its index\n",
    "np.argmin(goldprod)"
   ]
  },
  {
   "cell_type": "code",
   "execution_count": 41,
   "id": "9d753a02",
   "metadata": {},
   "outputs": [
    {
     "data": {
      "text/plain": [
       "'Graduation'"
      ]
     },
     "execution_count": 41,
     "metadata": {},
     "output_type": "execute_result"
    }
   ],
   "source": [
    "# Educational_Level with maximum Amount_on_GoldProds\n",
    "edu[np.argmax(goldprod)]"
   ]
  },
  {
   "cell_type": "code",
   "execution_count": 42,
   "id": "f4adb91a",
   "metadata": {},
   "outputs": [
    {
     "data": {
      "text/plain": [
       "642"
      ]
     },
     "execution_count": 42,
     "metadata": {},
     "output_type": "execute_result"
    }
   ],
   "source": [
    "# Its index\n",
    "np.argmax(goldprod)"
   ]
  },
  {
   "cell_type": "code",
   "execution_count": 52,
   "id": "b3c1f89f",
   "metadata": {},
   "outputs": [
    {
     "data": {
      "text/plain": [
       "'Married'"
      ]
     },
     "execution_count": 52,
     "metadata": {},
     "output_type": "execute_result"
    }
   ],
   "source": [
    "# Marital_Status with minimum Amount_on_SweetProducts\n",
    "marital[np.argmin(sweetprod)]"
   ]
  },
  {
   "cell_type": "code",
   "execution_count": 53,
   "id": "b5ef5b42",
   "metadata": {},
   "outputs": [
    {
     "data": {
      "text/plain": [
       "'Single'"
      ]
     },
     "execution_count": 53,
     "metadata": {},
     "output_type": "execute_result"
    }
   ],
   "source": [
    "# Marital_Status with maximum Amount_on_SweetProducts\n",
    "marital[np.argmax(sweetprod)]"
   ]
  },
  {
   "cell_type": "code",
   "execution_count": 54,
   "id": "bb11c4f4",
   "metadata": {},
   "outputs": [
    {
     "data": {
      "text/plain": [
       "'Together'"
      ]
     },
     "execution_count": 54,
     "metadata": {},
     "output_type": "execute_result"
    }
   ],
   "source": [
    "# Marital_Status with minimum Amount_on_GoldProds\n",
    "marital[np.argmin(goldprod)]"
   ]
  },
  {
   "cell_type": "code",
   "execution_count": 55,
   "id": "784fc371",
   "metadata": {},
   "outputs": [
    {
     "data": {
      "text/plain": [
       "'Single'"
      ]
     },
     "execution_count": 55,
     "metadata": {},
     "output_type": "execute_result"
    }
   ],
   "source": [
    "# Marital_Status with maximum Amount_on_GoldProds\n",
    "marital[np.argmax(goldprod)]"
   ]
  },
  {
   "cell_type": "markdown",
   "id": "4e43e2ae",
   "metadata": {},
   "source": [
    "# Indicate the Year_of_Birth with minimum and maximum Amount_on_SweetProducts and Amount_on_GoldProds"
   ]
  },
  {
   "cell_type": "code",
   "execution_count": 46,
   "id": "c3438f5b",
   "metadata": {},
   "outputs": [
    {
     "data": {
      "text/plain": [
       "1960"
      ]
     },
     "execution_count": 46,
     "metadata": {},
     "output_type": "execute_result"
    }
   ],
   "source": [
    "# Year_of_Birth with minimum Amount_on_SweetProducts\n",
    "birth_year[np.argmin(sweetprod)]"
   ]
  },
  {
   "cell_type": "code",
   "execution_count": 48,
   "id": "e3dead95",
   "metadata": {},
   "outputs": [
    {
     "data": {
      "text/plain": [
       "1987"
      ]
     },
     "execution_count": 48,
     "metadata": {},
     "output_type": "execute_result"
    }
   ],
   "source": [
    "# Year_of_Birth with maximum Amount_on_SweetProducts\n",
    "birth_year[np.argmax(sweetprod)]"
   ]
  },
  {
   "cell_type": "code",
   "execution_count": 50,
   "id": "40523e13",
   "metadata": {},
   "outputs": [
    {
     "data": {
      "text/plain": [
       "1956"
      ]
     },
     "execution_count": 50,
     "metadata": {},
     "output_type": "execute_result"
    }
   ],
   "source": [
    "# Year_of_Birth with minimum Amount_on_GoldProds\n",
    "birth_year[np.argmin(goldprod)]"
   ]
  },
  {
   "cell_type": "code",
   "execution_count": 51,
   "id": "ea78a55d",
   "metadata": {},
   "outputs": [
    {
     "data": {
      "text/plain": [
       "1987"
      ]
     },
     "execution_count": 51,
     "metadata": {},
     "output_type": "execute_result"
    }
   ],
   "source": [
    "# Year_of_Birth with maximum Amount_on_GoldProds\n",
    "birth_year[np.argmax(goldprod)]"
   ]
  }
 ],
 "metadata": {
  "kernelspec": {
   "display_name": "Python 3 (ipykernel)",
   "language": "python",
   "name": "python3"
  },
  "language_info": {
   "codemirror_mode": {
    "name": "ipython",
    "version": 3
   },
   "file_extension": ".py",
   "mimetype": "text/x-python",
   "name": "python",
   "nbconvert_exporter": "python",
   "pygments_lexer": "ipython3",
   "version": "3.9.7"
  }
 },
 "nbformat": 4,
 "nbformat_minor": 5
}
